{
 "cells": [
  {
   "cell_type": "code",
   "execution_count": 2,
   "metadata": {},
   "outputs": [],
   "source": [
    "import text_transformer as tf"
   ]
  },
  {
   "cell_type": "code",
   "execution_count": 3,
   "metadata": {},
   "outputs": [],
   "source": [
    "a = \"a cat is acrossing the road\"\n",
    "b = \"but the cat is running into the forest\""
   ]
  },
  {
   "cell_type": "code",
   "execution_count": 7,
   "metadata": {},
   "outputs": [
    {
     "data": {
      "text/plain": [
       "['a', 'cat', 'is', 'acrossing', 'the', 'road']"
      ]
     },
     "execution_count": 7,
     "metadata": {},
     "output_type": "execute_result"
    }
   ],
   "source": [
    "tf.word_seq(a)"
   ]
  },
  {
   "cell_type": "code",
   "execution_count": 12,
   "metadata": {},
   "outputs": [],
   "source": [
    "import MeCab"
   ]
  },
  {
   "cell_type": "code",
   "execution_count": 25,
   "metadata": {},
   "outputs": [],
   "source": [
    "def create_mecab(parts_of_speech=['名詞']):\n",
    "    def _mecab(text):\n",
    "        tagger = MeCab.Tagger()\n",
    "        node = tagger.parseToNode(text)\n",
    "        rs = []\n",
    "        while node:\n",
    "            word = node.surface\n",
    "            hinshi = node.feature.split(\",\")[0]\n",
    "            if hinshi in parts_of_speech:\n",
    "                rs += [word]\n",
    "\n",
    "            node = node.next\n",
    "        return rs\n",
    "    \n",
    "    return _mecab"
   ]
  },
  {
   "cell_type": "code",
   "execution_count": 28,
   "metadata": {},
   "outputs": [
    {
     "data": {
      "text/plain": [
       "['今日', 'いい', '天気', 'いい', '天気', '出掛け', 'し']"
      ]
     },
     "execution_count": 28,
     "metadata": {},
     "output_type": "execute_result"
    }
   ],
   "source": [
    "text = '今日はいい天気ですね．いい天気でお出掛けします'\n",
    "mecab = create_mecab(parts_of_speech=['名詞','動詞','形容詞'])\n",
    "tf.word_seq(text,parser=mecab)\n",
    "\n",
    "@cre"
   ]
  },
  {
   "cell_type": "code",
   "execution_count": null,
   "metadata": {},
   "outputs": [],
   "source": []
  },
  {
   "cell_type": "code",
   "execution_count": null,
   "metadata": {},
   "outputs": [],
   "source": []
  }
 ],
 "metadata": {
  "kernelspec": {
   "display_name": "Python 3",
   "language": "python",
   "name": "python3"
  },
  "language_info": {
   "codemirror_mode": {
    "name": "ipython",
    "version": 3
   },
   "file_extension": ".py",
   "mimetype": "text/x-python",
   "name": "python",
   "nbconvert_exporter": "python",
   "pygments_lexer": "ipython3",
   "version": "3.8.5"
  }
 },
 "nbformat": 4,
 "nbformat_minor": 4
}
