{
 "cells": [
  {
   "cell_type": "code",
   "execution_count": 1,
   "metadata": {},
   "outputs": [],
   "source": [
    "import text_transformer as tf"
   ]
  },
  {
   "cell_type": "markdown",
   "metadata": {},
   "source": [
    "# split transformer"
   ]
  },
  {
   "cell_type": "code",
   "execution_count": 2,
   "metadata": {},
   "outputs": [
    {
     "data": {
      "text/plain": [
       "['a', 'cat', 'is', 'acrossing', 'the', 'road']"
      ]
     },
     "execution_count": 2,
     "metadata": {},
     "output_type": "execute_result"
    }
   ],
   "source": [
    "a = \"a cat is acrossing the road\"\n",
    "b = \"but the cat is running into the forest\"\n",
    "tf.word_seq(a)"
   ]
  },
  {
   "cell_type": "markdown",
   "metadata": {},
   "source": [
    "# mecab transformer"
   ]
  },
  {
   "cell_type": "code",
   "execution_count": 3,
   "metadata": {},
   "outputs": [
    {
     "data": {
      "text/plain": [
       "['英語', '単語', 'スペース', '区切る', 'れる', '分割', '簡単', '日本語', '難しい']"
      ]
     },
     "execution_count": 3,
     "metadata": {},
     "output_type": "execute_result"
    }
   ],
   "source": [
    "text = '英語は単語ごとにスペースで区切られているので分割するのが簡単だが、日本語は難しい。'\n",
    "pos = ['名詞','動詞','形容詞']\n",
    "stop = ['の','いる','する','ごと','こと']\n",
    "\n",
    "janome = tf.create_parser(parts_of_speech=pos,stop_words=stop)\n",
    "tf.word_seq(text, parser = janome)"
   ]
  },
  {
   "cell_type": "code",
   "execution_count": 4,
   "metadata": {},
   "outputs": [
    {
     "data": {
      "text/plain": [
       "['英語', '単語', 'スペース', '区切る', 'れる', '分割', '簡単', '日本語', '難しい']"
      ]
     },
     "execution_count": 4,
     "metadata": {},
     "output_type": "execute_result"
    }
   ],
   "source": [
    "mecab = tf.create_parser(worker='mecab', parts_of_speech=pos,stop_words=stop)\n",
    "tf.word_seq(text, parser = mecab)"
   ]
  },
  {
   "cell_type": "code",
   "execution_count": 7,
   "metadata": {},
   "outputs": [
    {
     "data": {
      "text/plain": [
       "['ベラルーシ',\n",
       " '政府',\n",
       " '29',\n",
       " '日',\n",
       " 'ウクライナ',\n",
       " '領内',\n",
       " '発射',\n",
       " 'れる',\n",
       " 'ミサイル',\n",
       " '防空',\n",
       " 'システム',\n",
       " '迎撃',\n",
       " '発表']"
      ]
     },
     "execution_count": 7,
     "metadata": {},
     "output_type": "execute_result"
    }
   ],
   "source": [
    "t = \"ベラルーシ政府は29日、ウクライナ領内から発射されたミサイルを防空システムで迎撃したと発表した\"\n",
    "tf.word_seq(t, parser = janome)"
   ]
  },
  {
   "cell_type": "code",
   "execution_count": null,
   "metadata": {},
   "outputs": [],
   "source": []
  }
 ],
 "metadata": {
  "kernelspec": {
   "display_name": "Python 3 (ipykernel)",
   "language": "python",
   "name": "python3"
  },
  "language_info": {
   "codemirror_mode": {
    "name": "ipython",
    "version": 3
   },
   "file_extension": ".py",
   "mimetype": "text/x-python",
   "name": "python",
   "nbconvert_exporter": "python",
   "pygments_lexer": "ipython3",
   "version": "3.9.12"
  }
 },
 "nbformat": 4,
 "nbformat_minor": 4
}
