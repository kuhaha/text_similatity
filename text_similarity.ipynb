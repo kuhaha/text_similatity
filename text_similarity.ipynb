{
 "cells": [
  {
   "cell_type": "code",
   "execution_count": 1,
   "metadata": {},
   "outputs": [],
   "source": [
    "import text_similarity as sim"
   ]
  },
  {
   "cell_type": "code",
   "execution_count": 2,
   "metadata": {},
   "outputs": [],
   "source": [
    "x = [1,3,5,7,9]\n",
    "y = [2,3,5,7]\n",
    "a = \"a cat is acrossing the road\"\n",
    "b = \"but the cat is running into the forest\""
   ]
  },
  {
   "cell_type": "code",
   "execution_count": 3,
   "metadata": {},
   "outputs": [],
   "source": [
    "from operator import methodcaller\n",
    "\n",
    "def similarity(x,y,formula='jaccard'):\n",
    "    \"\"\"\" alias to different methods  \"\"\"\n",
    "    func = methodcaller(f'{formula}_similarity',x,y)\n",
    "    return func(sim)"
   ]
  },
  {
   "cell_type": "markdown",
   "metadata": {},
   "source": [
    "## test methods"
   ]
  },
  {
   "cell_type": "code",
   "execution_count": 4,
   "metadata": {},
   "outputs": [],
   "source": [
    "methods = ['jaccard','simpson','levenshtein']"
   ]
  },
  {
   "cell_type": "code",
   "execution_count": 5,
   "metadata": {},
   "outputs": [
    {
     "name": "stdout",
     "output_type": "stream",
     "text": [
      "X=[1, 3, 5, 7, 9]\n",
      "Y=[2, 3, 5, 7]\n",
      "0.500 : jaccard\n",
      "0.750 : simpson\n",
      "0.600 : levenshtein\n"
     ]
    }
   ],
   "source": [
    "X, Y = x, y\n",
    "print(f'X={X}\\nY={Y}')\n",
    "for m in methods:\n",
    "    print(f\"{similarity(X,Y,formula=m):5.3f} : {m}\")"
   ]
  },
  {
   "cell_type": "code",
   "execution_count": 6,
   "metadata": {},
   "outputs": [
    {
     "name": "stdout",
     "output_type": "stream",
     "text": [
      "X=['a', 'cat', 'is', 'acrossing', 'the', 'road']\n",
      "Y=['but', 'the', 'cat', 'is', 'running', 'into', 'the', 'forest']\n",
      "0.300 : jaccard\n",
      "0.500 : simpson\n",
      "0.375 : levenshtein\n"
     ]
    }
   ],
   "source": [
    "X, Y = a.split(' '), b.split(' ')\n",
    "print(f'X={X}\\nY={Y}')\n",
    "for m in methods:\n",
    "    print(f\"{similarity(X,Y,formula=m):5.3f} : {m}\")"
   ]
  },
  {
   "cell_type": "code",
   "execution_count": 7,
   "metadata": {},
   "outputs": [
    {
     "name": "stdout",
     "output_type": "stream",
     "text": [
      "X=a cat is acrossing the road\n",
      "Y=but the cat is running into the forest\n",
      "0.750 : jaccard\n",
      "0.923 : simpson\n",
      "0.421 : levenshtein\n"
     ]
    }
   ],
   "source": [
    "X, Y = a, b\n",
    "print(f'X={X}\\nY={Y}')\n",
    "for m in methods:\n",
    "\n",
    "    print(f\"{similarity(X,Y,formula=m):5.3f} : {m}\")"
   ]
  },
  {
   "cell_type": "code",
   "execution_count": 8,
   "metadata": {},
   "outputs": [
    {
     "name": "stdout",
     "output_type": "stream",
     "text": [
      "[1, 3, 5, 7, 9] [2, 3, 5, 7]\n"
     ]
    }
   ],
   "source": [
    "print(x,y)"
   ]
  },
  {
   "cell_type": "code",
   "execution_count": 9,
   "metadata": {},
   "outputs": [
    {
     "name": "stdout",
     "output_type": "stream",
     "text": [
      "2x5\n",
      "[2, 2]\n",
      "0.4\n"
     ]
    }
   ],
   "source": [
    "import numpy as np\n",
    "cutoff = 0.5\n",
    "raw = [[0.1,0.3,0.5,0.7,0.9],[0.0,0.2,0.4,0.6,0.8]]\n",
    "data = np.array(raw)\n",
    "m,n = data.shape \n",
    "print(f'{m}x{n}')\n",
    "\n",
    "st =[len([x for x in a if x>cutoff]) for a in raw]\n",
    "print(st)\n",
    "p = sum(st)\n",
    "print(p/float(m*n))"
   ]
  },
  {
   "cell_type": "code",
   "execution_count": 11,
   "metadata": {},
   "outputs": [
    {
     "data": {
      "text/plain": [
       "0.4"
      ]
     },
     "execution_count": 11,
     "metadata": {},
     "output_type": "execute_result"
    }
   ],
   "source": [
    "from score import Scorer\n",
    "sc = Scorer(cutoff=0.5)\n",
    "sc.count_score(raw)"
   ]
  },
  {
   "cell_type": "code",
   "execution_count": null,
   "metadata": {},
   "outputs": [],
   "source": []
  }
 ],
 "metadata": {
  "kernelspec": {
   "display_name": "Python 3",
   "language": "python",
   "name": "python3"
  },
  "language_info": {
   "codemirror_mode": {
    "name": "ipython",
    "version": 3
   },
   "file_extension": ".py",
   "mimetype": "text/x-python",
   "name": "python",
   "nbconvert_exporter": "python",
   "pygments_lexer": "ipython3",
   "version": "3.8.5"
  }
 },
 "nbformat": 4,
 "nbformat_minor": 4
}
