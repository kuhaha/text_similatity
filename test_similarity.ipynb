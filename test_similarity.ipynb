{
 "cells": [
  {
   "cell_type": "code",
   "execution_count": 18,
   "metadata": {},
   "outputs": [],
   "source": [
    "import text_similarity as sim"
   ]
  },
  {
   "cell_type": "code",
   "execution_count": 19,
   "metadata": {},
   "outputs": [],
   "source": [
    "x = [1,3,5,7,9]\n",
    "y = [2,3,5,7]\n",
    "a = \"a cat is acrossing the road\"\n",
    "b = \"the cat is running into the forest\""
   ]
  },
  {
   "cell_type": "code",
   "execution_count": 20,
   "metadata": {},
   "outputs": [],
   "source": [
    "from operator import methodcaller\n",
    "\n",
    "def similarity(x,y,formula='jaccard'):\n",
    "    \"\"\"\" alias to different methods  \"\"\"\n",
    "    func = methodcaller(f'{formula}_similarity',x,y)\n",
    "    return func(sim)"
   ]
  },
  {
   "cell_type": "markdown",
   "metadata": {},
   "source": [
    "## test methods"
   ]
  },
  {
   "cell_type": "code",
   "execution_count": 21,
   "metadata": {},
   "outputs": [],
   "source": [
    "import importlib"
   ]
  },
  {
   "cell_type": "code",
   "execution_count": 27,
   "metadata": {},
   "outputs": [
    {
     "name": "stdout",
     "output_type": "stream",
     "text": [
      " cat is \n",
      "[3, 5, 7]\n"
     ]
    }
   ],
   "source": [
    "importlib.reload(sim)\n",
    "# Longest Common SubString\n",
    "ab=sim.LCStr(a,b)\n",
    "xy=sim.LCStr(x,y)\n",
    "print(ab)\n",
    "print(xy)"
   ]
  },
  {
   "cell_type": "code",
   "execution_count": 28,
   "metadata": {},
   "outputs": [
    {
     "name": "stdout",
     "output_type": "stream",
     "text": [
      "8\n",
      "3\n"
     ]
    }
   ],
   "source": [
    "n_ab=sim.LCStr_len(a,b)\n",
    "n_xy=sim.LCStr_len(x,y)\n",
    "print(n_ab)\n",
    "print(n_xy)"
   ]
  },
  {
   "cell_type": "code",
   "execution_count": 29,
   "metadata": {},
   "outputs": [
    {
     "name": "stdout",
     "output_type": "stream",
     "text": [
      " cat is ring the r\n",
      "[3, 5, 7]\n"
     ]
    }
   ],
   "source": [
    "# Longest Common SubSequence\n",
    "ab=sim.LCSeq(a,b)\n",
    "xy=sim.LCSeq(x,y)\n",
    "print(ab)\n",
    "print(xy)"
   ]
  },
  {
   "cell_type": "code",
   "execution_count": 30,
   "metadata": {},
   "outputs": [
    {
     "name": "stdout",
     "output_type": "stream",
     "text": [
      "18\n",
      "3\n"
     ]
    }
   ],
   "source": [
    "n_ab=sim.LCSeq_len(a,b)\n",
    "n_xy=sim.LCSeq_len(x,y)\n",
    "print(n_ab)\n",
    "print(n_xy)"
   ]
  },
  {
   "cell_type": "code",
   "execution_count": 9,
   "metadata": {},
   "outputs": [],
   "source": [
    "methods = ['jaccard','simpson','levenshtein']"
   ]
  },
  {
   "cell_type": "code",
   "execution_count": 10,
   "metadata": {},
   "outputs": [
    {
     "name": "stdout",
     "output_type": "stream",
     "text": [
      "X=[1, 3, 5, 7, 9]\n",
      "Y=[2, 3, 5, 7]\n",
      "0.500 : jaccard\n",
      "0.750 : simpson\n",
      "0.600 : levenshtein\n"
     ]
    }
   ],
   "source": [
    "X, Y = x, y\n",
    "print(f'X={X}\\nY={Y}')\n",
    "for m in methods:\n",
    "    print(f\"{similarity(X,Y,formula=m):5.3f} : {m}\")"
   ]
  },
  {
   "cell_type": "code",
   "execution_count": 11,
   "metadata": {},
   "outputs": [
    {
     "name": "stdout",
     "output_type": "stream",
     "text": [
      "X=['a', 'cat', 'is', 'acrossing', 'the', 'road']\n",
      "Y=['the', 'cat', 'is', 'running', 'into', 'the', 'forest']\n",
      "0.333 : jaccard\n",
      "0.500 : simpson\n",
      "0.429 : levenshtein\n"
     ]
    }
   ],
   "source": [
    "X, Y = a.split(' '), b.split(' ')\n",
    "print(f'X={X}\\nY={Y}')\n",
    "for m in methods:\n",
    "    print(f\"{similarity(X,Y,formula=m):5.3f} : {m}\")"
   ]
  },
  {
   "cell_type": "code",
   "execution_count": 12,
   "metadata": {},
   "outputs": [
    {
     "name": "stdout",
     "output_type": "stream",
     "text": [
      "X=a cat is acrossing the road\n",
      "Y=the cat is running into the forest\n",
      "0.800 : jaccard\n",
      "0.923 : simpson\n",
      "0.471 : levenshtein\n"
     ]
    }
   ],
   "source": [
    "X, Y = a, b\n",
    "print(f'X={X}\\nY={Y}')\n",
    "for m in methods:\n",
    "    print(f\"{similarity(X,Y,formula=m):5.3f} : {m}\")"
   ]
  },
  {
   "cell_type": "code",
   "execution_count": 13,
   "metadata": {},
   "outputs": [
    {
     "data": {
      "text/plain": [
       "0.5714285714285714"
      ]
     },
     "execution_count": 13,
     "metadata": {},
     "output_type": "execute_result"
    }
   ],
   "source": [
    "from score import Scorer, score\n",
    "sc = Scorer()\n",
    "data = [(0,1,0.1),(0,3,0.3),(1,2,0.5),(2,3,0.7),(1,4,0.9),(2,4,0.2),(3,4,0.8)]\n",
    "sc.count_score(data, cutoff=0.3)"
   ]
  },
  {
   "cell_type": "code",
   "execution_count": 14,
   "metadata": {},
   "outputs": [
    {
     "data": {
      "text/plain": [
       "0.5714285714285714"
      ]
     },
     "execution_count": 14,
     "metadata": {},
     "output_type": "execute_result"
    }
   ],
   "source": [
    "score(data, cutoff=0.3)"
   ]
  },
  {
   "cell_type": "code",
   "execution_count": 15,
   "metadata": {},
   "outputs": [
    {
     "data": {
      "text/plain": [
       "0.42857142857142855"
      ]
     },
     "execution_count": 15,
     "metadata": {},
     "output_type": "execute_result"
    }
   ],
   "source": [
    "score(data, cutoff=0.5)"
   ]
  },
  {
   "cell_type": "code",
   "execution_count": 16,
   "metadata": {},
   "outputs": [
    {
     "data": {
      "text/plain": [
       "0.3428571428571429"
      ]
     },
     "execution_count": 16,
     "metadata": {},
     "output_type": "execute_result"
    }
   ],
   "source": [
    "score(data, scorer='avg', cutoff=0.5)"
   ]
  },
  {
   "cell_type": "code",
   "execution_count": 17,
   "metadata": {},
   "outputs": [
    {
     "data": {
      "text/plain": [
       "0.9"
      ]
     },
     "execution_count": 17,
     "metadata": {},
     "output_type": "execute_result"
    }
   ],
   "source": [
    "score(data, scorer='max', cutoff=0.5)"
   ]
  },
  {
   "cell_type": "code",
   "execution_count": null,
   "metadata": {},
   "outputs": [],
   "source": []
  }
 ],
 "metadata": {
  "kernelspec": {
   "display_name": "Python 3 (ipykernel)",
   "language": "python",
   "name": "python3"
  },
  "language_info": {
   "codemirror_mode": {
    "name": "ipython",
    "version": 3
   },
   "file_extension": ".py",
   "mimetype": "text/x-python",
   "name": "python",
   "nbconvert_exporter": "python",
   "pygments_lexer": "ipython3",
   "version": "3.9.6"
  }
 },
 "nbformat": 4,
 "nbformat_minor": 4
}
