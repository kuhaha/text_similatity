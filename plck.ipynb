{
 "cells": [
  {
   "cell_type": "code",
   "execution_count": 2,
   "id": "420891de",
   "metadata": {},
   "outputs": [],
   "source": [
    "import re\n",
    "import Levenshtein\n",
    "import numpy as np\n",
    "import MeCab\n",
    "from operator import methodcaller\n",
    "import text_similarity as sim"
   ]
  },
  {
   "cell_type": "code",
   "execution_count": 3,
   "id": "cca75bd9",
   "metadata": {},
   "outputs": [],
   "source": [
    "def similarity(x,y,formula='jaccard'):\n",
    "    \"\"\"\" alias to different methods  \"\"\"\n",
    "    func = methodcaller(f'{formula}_similarity',x,y)\n",
    "    return func(sim)"
   ]
  },
  {
   "cell_type": "code",
   "execution_count": 11,
   "id": "41f77ff9",
   "metadata": {},
   "outputs": [],
   "source": [
    "dataset = 'datasets/ishida'\n",
    "files=['d1.txt', 'd20.txt', 'd40.txt', 'd60.txt', 'd80.txt']\n",
    "n = len(files)"
   ]
  },
  {
   "cell_type": "code",
   "execution_count": 12,
   "id": "8dbc4a80",
   "metadata": {},
   "outputs": [],
   "source": [
    "def create_mecab(parts_of_speech=['名詞'], stop_words=[]):\n",
    "    def _mecab(text):\n",
    "        tagger = MeCab.Tagger()\n",
    "        node = tagger.parseToNode(text)\n",
    "        rs = []\n",
    "        while node:\n",
    "            word=node.surface\n",
    "\n",
    "            if node.feature.split(\",\")[0] == u\"動詞\": \n",
    "                 word=node.feature.split(\",\")[6]\n",
    "\n",
    "       \n",
    "            hinshi = node.feature.split(\",\")[0]\n",
    "            if hinshi in parts_of_speech and not word in stop_words:\n",
    "                rs += [word]\n",
    "\n",
    "            node = node.next\n",
    "        return rs\n",
    "    \n",
    "    return _mecab"
   ]
  },
  {
   "cell_type": "code",
   "execution_count": 13,
   "id": "0d5a2b68",
   "metadata": {},
   "outputs": [
    {
     "name": "stdout",
     "output_type": "stream",
     "text": [
      "['今日', 'いい', '天気']\n",
      "['今日', '勉強', 'する']\n"
     ]
    },
    {
     "data": {
      "text/plain": [
       "0.33333333333333337"
      ]
     },
     "execution_count": 13,
     "metadata": {},
     "output_type": "execute_result"
    }
   ],
   "source": [
    "a=\"今日はいい天気ですね。\"\n",
    "b='今日勉強します。'\n",
    "mecab=create_mecab(parts_of_speech=['名詞','動詞','形容詞'])\n",
    "# list_a=' '.join(mecab(a))\n",
    "# list_b=' '.join(mecab(b))\n",
    "list_a, list_b = mecab(a), mecab(b)\n",
    "print(list_a)\n",
    "print(list_b)\n",
    "sim.levenshtein_similarity(list_a,list_b)"
   ]
  },
  {
   "cell_type": "code",
   "execution_count": 18,
   "id": "731a98c6",
   "metadata": {},
   "outputs": [
    {
     "name": "stdout",
     "output_type": "stream",
     "text": [
      "jaccard\n",
      "(2, 3, 0.7155322862129145)\n",
      "(0, 4, 0.7150170648464164)\n",
      "(1, 2, 0.6978798586572438)\n",
      "(3, 4, 0.6888888888888889)\n",
      "(0, 3, 0.5007363770250368)\n",
      "(1, 3, 0.4961832061068702)\n",
      "(2, 4, 0.47938931297709925)\n",
      "(0, 2, 0.34048257372654156)\n",
      "(1, 4, 0.31607629427792916)\n",
      "(0, 1, 0.2143727161997564)\n",
      "simpson\n",
      "(0, 4, 0.8603696098562629)\n",
      "(2, 3, 0.8506224066390041)\n",
      "(3, 4, 0.8275154004106776)\n",
      "(1, 2, 0.824634655532359)\n",
      "(0, 3, 0.6786427145708582)\n",
      "(1, 3, 0.6784968684759917)\n",
      "(2, 4, 0.6514522821576764)\n",
      "(0, 2, 0.5269709543568465)\n",
      "(1, 4, 0.48434237995824636)\n",
      "(0, 1, 0.3674321503131524)\n",
      "levenshtein\n",
      "(1, 2, 0.7780979827089337)\n",
      "(3, 4, 0.7774674115456238)\n",
      "(2, 3, 0.7192488262910799)\n",
      "(1, 3, 0.5089201877934273)\n",
      "(2, 4, 0.5009310986964619)\n",
      "(1, 4, 0.2914338919925512)\n",
      "(0, 2, 0.050091074681238634)\n",
      "(0, 1, 0.03551912568306015)\n",
      "(0, 3, 0.030965391621129323)\n",
      "(0, 4, 0.024590163934426257)\n"
     ]
    }
   ],
   "source": [
    "rs=[]\n",
    "methods = ['jaccard','simpson','levenshtein']\n",
    "inmethods= ['levenshtein']\n",
    "for m in methods:\n",
    "    for i in range(n):\n",
    "        for j in range(i+1,n):\n",
    "            file1, file2=f'{dataset}/{files[i]}', f'{dataset}/{files[j]}'\n",
    "            #print(file1, file2)\n",
    "            with open(file1, mode=\"r\", encoding=\"utf-8\") as f:\n",
    "                text1 = f.read()\n",
    "            with open(file2, mode=\"r\", encoding=\"utf-8\") as f:\n",
    "                text2 = f.read()\n",
    "            #print(text1[:20])\n",
    "            #print(text2[:20])\n",
    "            list1, list2=mecab(text1), mecab(text2)\n",
    "#             if m in inmethods:\n",
    "#                 list1, list2=' '.join(list1), ' '.join(list2) \n",
    "            #print(jaccard_similarity(list1,list2))\n",
    "            #score=jaccard_similarity(list1,list2)\n",
    "            \n",
    "            score=similarity(list1, list2, formula=m)\n",
    "            rs += [(m, i, j, score)]\n",
    "\n",
    "for m in methods:\n",
    "    t = [(t[1:])for t in rs if t[0]==m]\n",
    "    print(m)\n",
    "    t = sorted(t, key=lambda x: x[2], reverse=True ) \n",
    "    for s in t:\n",
    "        print(s)"
   ]
  },
  {
   "cell_type": "code",
   "execution_count": null,
   "id": "e8757675",
   "metadata": {},
   "outputs": [],
   "source": []
  },
  {
   "cell_type": "code",
   "execution_count": null,
   "id": "fbcd37cc",
   "metadata": {},
   "outputs": [],
   "source": []
  }
 ],
 "metadata": {
  "kernelspec": {
   "display_name": "Python 3 (ipykernel)",
   "language": "python",
   "name": "python3"
  },
  "language_info": {
   "codemirror_mode": {
    "name": "ipython",
    "version": 3
   },
   "file_extension": ".py",
   "mimetype": "text/x-python",
   "name": "python",
   "nbconvert_exporter": "python",
   "pygments_lexer": "ipython3",
   "version": "3.9.12"
  }
 },
 "nbformat": 4,
 "nbformat_minor": 5
}
